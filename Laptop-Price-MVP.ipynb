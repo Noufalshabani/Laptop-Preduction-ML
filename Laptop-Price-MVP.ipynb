{
 "cells": [
  {
   "cell_type": "markdown",
   "id": "d43b57bb",
   "metadata": {},
   "source": [
    "# Regression - Laptop Price"
   ]
  },
  {
   "cell_type": "code",
   "execution_count": null,
   "id": "04519afe",
   "metadata": {},
   "outputs": [],
   "source": [
    "#import libraries to be used \n",
    "import pandas as pd\n",
    "import numpy as np\n",
    "import patsy\n",
    "import plotly.express as px\n",
    "import seaborn as sns\n",
    "import matplotlib.pyplot as plt\n",
    "%matplotlib inline\n",
    "import statsmodels.formula.api as smf\n",
    "import statsmodels.api as sm\n",
    "from sklearn.linear_model import LinearRegression\n",
    "from sklearn.linear_model import RidgeCV\n",
    "from sklearn.metrics import mean_squared_error, mean_absolute_error\n",
    "from sklearn.model_selection import train_test_split\n",
    "from sklearn.ensemble import RandomForestRegressor"
   ]
  },
  {
   "cell_type": "code",
   "execution_count": null,
   "id": "5269effc",
   "metadata": {},
   "outputs": [],
   "source": [
    "df = pd.read_csv(\"laptop_price.csv\") #read a comma-separated values file into dataframe"
   ]
  },
  {
   "cell_type": "code",
   "execution_count": null,
   "id": "de15196a",
   "metadata": {},
   "outputs": [],
   "source": [
    "df.drop(columns=\"laptop_ID\" , inplace= True)  #drop specified labels from rows or columns"
   ]
  },
  {
   "cell_type": "code",
   "execution_count": null,
   "id": "5f64f93a",
   "metadata": {},
   "outputs": [],
   "source": [
    "df.rename(columns= {'Price_euros': 'Price'}, inplace = True)  #rename The Column"
   ]
  },
  {
   "cell_type": "code",
   "execution_count": null,
   "id": "cc93ec4f",
   "metadata": {},
   "outputs": [],
   "source": [
    "df[\"TypeName\"]=df[\"TypeName\"].str.replace(\"Netbook\",\"Notebook\") #Replace duplicated names in typename column"
   ]
  },
  {
   "cell_type": "code",
   "execution_count": null,
   "id": "70565d88",
   "metadata": {},
   "outputs": [],
   "source": [
    "df[\"Touchscreen\"]= df[\"ScreenResolution\"].apply(lambda x:1 if \"Touchscreen\" in x else 0) "
   ]
  },
  {
   "cell_type": "code",
   "execution_count": null,
   "id": "f8194bcc",
   "metadata": {},
   "outputs": [],
   "source": [
    "screen = df[\"ScreenResolution\"].str.split(\"x\",n=1,expand=True) #"
   ]
  },
  {
   "cell_type": "code",
   "execution_count": null,
   "id": "eda89f8b",
   "metadata": {},
   "outputs": [],
   "source": [
    "df[\"sc_x\"] = screen[0]\n",
    "df[\"sc_y\"] = screen[1]"
   ]
  },
  {
   "cell_type": "code",
   "execution_count": null,
   "id": "521a6cf1",
   "metadata": {},
   "outputs": [],
   "source": [
    "df[\"sc_x\"]=df[\"sc_x\"].str.replace(\",\",\"\").str.findall(r\"(\\d\\d+)\").apply(lambda x:x[0])"
   ]
  },
  {
   "cell_type": "code",
   "execution_count": null,
   "id": "aa549a1d",
   "metadata": {},
   "outputs": [],
   "source": [
    " #change type from str to float\n",
    "df[\"sc_x\"]=df['sc_x'].astype(float)  \n",
    "df[\"sc_y\"]=df['sc_y'].astype(float)\n"
   ]
  },
  {
   "cell_type": "code",
   "execution_count": null,
   "id": "fbe208b9",
   "metadata": {},
   "outputs": [],
   "source": [
    "df[\"IPS\"]=df[\"ScreenResolution\"].apply(lambda x:1 if \"IPS\" in x else 0) #check if IPS in ScreenResolution"
   ]
  },
  {
   "cell_type": "code",
   "execution_count": null,
   "id": "ca0f4071",
   "metadata": {},
   "outputs": [],
   "source": [
    "df['Weight'] = df['Weight'].str.replace('kg','')"
   ]
  },
  {
   "cell_type": "code",
   "execution_count": null,
   "id": "0a3b2d29",
   "metadata": {},
   "outputs": [],
   "source": [
    "df['Weight']= df['Weight'].astype(float) #change type from str to float \n"
   ]
  },
  {
   "cell_type": "code",
   "execution_count": null,
   "id": "24aa14ae",
   "metadata": {},
   "outputs": [],
   "source": [
    "df['Ram'] = df['Ram'].str.replace('GB','') "
   ]
  },
  {
   "cell_type": "code",
   "execution_count": null,
   "id": "34d614bd",
   "metadata": {},
   "outputs": [],
   "source": [
    "df['ppi'] = (((df['sc_x']**2) + (df['sc_y']**2))**0.5/df['Inches'])"
   ]
  },
  {
   "cell_type": "code",
   "execution_count": null,
   "id": "124fe81b",
   "metadata": {},
   "outputs": [],
   "source": [
    "df.drop(columns=\"Inches\" , inplace= True)"
   ]
  },
  {
   "cell_type": "code",
   "execution_count": null,
   "id": "de0edcbc",
   "metadata": {},
   "outputs": [],
   "source": [
    "def Cpus (x):\n",
    "    cpuName = \" \".join(x.split()[0:3])\n",
    "    if cpuName == \"Intel Core i7\" or cpuName == \"Intel Core i5\" or cpuName == \"Intel Core i3\" :\n",
    "        return cpuName\n",
    "    elif cpuName.split()[0] == \"Intel\":\n",
    "        return \"other Intel\"\n",
    "    elif cpuName.split()[0] == \"AMD\":\n",
    "        return 'AMD'\n",
    "    else :\n",
    "        return 'Samsung '\n",
    "    \n",
    "df[\"cpuName\"]=df[\"Cpu\"].apply(lambda x:Cpus (x))"
   ]
  },
  {
   "cell_type": "code",
   "execution_count": null,
   "id": "426ea582",
   "metadata": {},
   "outputs": [],
   "source": [
    "df.drop(columns=\"Cpu\" , inplace= True)"
   ]
  },
  {
   "cell_type": "code",
   "execution_count": null,
   "id": "f0502e72",
   "metadata": {},
   "outputs": [],
   "source": [
    "df.drop(columns=\"sc_x\" , inplace= True)\n",
    "df.drop(columns=\"sc_y\" , inplace= True)"
   ]
  },
  {
   "cell_type": "code",
   "execution_count": null,
   "id": "04d75ca3",
   "metadata": {},
   "outputs": [],
   "source": [
    "df.drop(columns=\"ScreenResolution\" , inplace= True)"
   ]
  },
  {
   "cell_type": "code",
   "execution_count": null,
   "id": "28ac847d",
   "metadata": {},
   "outputs": [],
   "source": [
    "\n",
    "def aos(x): \n",
    "    if x == 'Windows 10' or x == 'Windows 7' or x == 'Windows 10 S':\n",
    "        return 'Windows'\n",
    "    elif x == 'macOS' or x == 'Mac OS X':\n",
    "        return 'Mac'\n",
    "    else:\n",
    "        return 'Others OS/Linux'\n",
    "df['os'] = df['OpSys'].apply(aos)"
   ]
  },
  {
   "cell_type": "code",
   "execution_count": null,
   "id": "63071e31",
   "metadata": {},
   "outputs": [],
   "source": [
    "df['Ram']=df['Ram'].astype(int)"
   ]
  },
  {
   "cell_type": "code",
   "execution_count": null,
   "id": "b73234ca",
   "metadata": {},
   "outputs": [],
   "source": [
    "df['HDD']=df['Memory'].str.extract('(\\d\\d\\d?GB\\sHDD|\\dTB\\sHDD|\\d\\.0TB\\sHDD)',expand=True)\n",
    "df['HDD']=df['HDD'].str.extract('(\\d\\d\\d?|\\dTB|\\d\\.0TB)',expand=True)\n",
    "df['HDD']=df['HDD'].str.replace('(TB|\\.0TB)','000',regex=True)\n",
    "df['HDD'].fillna(0,inplace=True)\n"
   ]
  },
  {
   "cell_type": "code",
   "execution_count": null,
   "id": "79bfed43",
   "metadata": {},
   "outputs": [],
   "source": [
    "df['SSD']=df['Memory'].str.extract('(\\d\\d\\d?GB\\sSSD|\\dTB\\sSSD|\\d\\.0TB\\sSSD)',expand=True)\n",
    "df['SSD']=df['SSD'].str.extract('(\\d\\d\\d?|\\dTB|\\d\\.0TB)',expand=True)\n",
    "df['SSD']=df['SSD'].str.replace('(TB|\\.0TB)','000',regex=True)\n",
    "df['SSD'].fillna(0,inplace=True)\n"
   ]
  },
  {
   "cell_type": "code",
   "execution_count": null,
   "id": "245623e0",
   "metadata": {},
   "outputs": [],
   "source": [
    "df['Flash']=df['Memory'].str.extract('(\\d\\d\\d?GB\\sFlash Storage|\\dTB\\sFlash Storage|\\d\\.0TB\\sSSD)',expand=True)\n",
    "df['Flash']=df['Flash'].str.extract('(\\d\\d\\d?|\\dFlash Storage|\\d\\.0TB)',expand=True)\n",
    "df['Flash']=df['Flash'].str.replace('(TB|\\.0TB)','000',regex=True)\n",
    "df['Flash'].fillna(0,inplace=True)\n"
   ]
  },
  {
   "cell_type": "code",
   "execution_count": null,
   "id": "abae9d73",
   "metadata": {},
   "outputs": [],
   "source": [
    "df['Hybrid']=df['Memory'].str.extract('(\\d\\d\\d?GB\\sHybrid|\\dTB\\sSSD|\\d\\.0TB\\sHybrid)',expand=True)\n",
    "df['Hybrid']=df['Hybrid'].str.extract('(\\d\\d\\d?|\\dTB|\\d\\.0TB)',expand=True)\n",
    "df['Hybrid']=df['Hybrid'].str.replace('(TB|\\.0TB)','000',regex=True)\n",
    "df['Hybrid'].fillna(0,inplace=True)\n"
   ]
  },
  {
   "cell_type": "code",
   "execution_count": null,
   "id": "fe97ffd5",
   "metadata": {},
   "outputs": [],
   "source": [
    "df['HDD']=df['HDD'].astype(int)\n",
    "df['SSD']=df['SSD'].astype(int)\n",
    "df['Hybrid']=df['Hybrid'].astype(int)\n",
    "df['Flash']=df['Flash'].astype(int)"
   ]
  },
  {
   "cell_type": "code",
   "execution_count": null,
   "id": "36afbfff",
   "metadata": {},
   "outputs": [],
   "source": [
    "df.drop(['Memory','Gpu'], axis =1 , inplace =True)"
   ]
  },
  {
   "cell_type": "markdown",
   "id": "21c713ef",
   "metadata": {},
   "source": [
    "# What is the average price of laptops per company?"
   ]
  },
  {
   "cell_type": "code",
   "execution_count": null,
   "id": "cbca09fd",
   "metadata": {},
   "outputs": [],
   "source": [
    "avg_price=df.groupby('Company', as_index=False)['Price'].mean()\n",
    "avg_price"
   ]
  },
  {
   "cell_type": "code",
   "execution_count": null,
   "id": "1e5020d2",
   "metadata": {},
   "outputs": [],
   "source": [
    "fig = px.bar(avg_price,x='Company',y='Price')\n",
    "fig\n"
   ]
  },
  {
   "cell_type": "markdown",
   "id": "ee5a353a",
   "metadata": {},
   "source": [
    "# What is the minimum weight of laptops for each company ?"
   ]
  },
  {
   "cell_type": "code",
   "execution_count": null,
   "id": "ed696ad0",
   "metadata": {},
   "outputs": [],
   "source": [
    "min_w=df.groupby('Company')[['Weight']].min().reset_index().sort_values(by=\"Weight\",ascending=True)\n"
   ]
  },
  {
   "cell_type": "code",
   "execution_count": null,
   "id": "ecf7fcfd",
   "metadata": {
    "scrolled": true
   },
   "outputs": [],
   "source": [
    "min_w.head()"
   ]
  },
  {
   "cell_type": "code",
   "execution_count": null,
   "id": "ce4a38ec",
   "metadata": {},
   "outputs": [],
   "source": [
    "fig = px.bar(min_w,x='Company',y='Weight')\n",
    "fig\n"
   ]
  },
  {
   "cell_type": "markdown",
   "id": "2f29ce3d",
   "metadata": {},
   "source": [
    "# What is the company of the most expensive laptops?"
   ]
  },
  {
   "cell_type": "code",
   "execution_count": null,
   "id": "2a48b421",
   "metadata": {},
   "outputs": [],
   "source": [
    "exp_laptop = df.groupby('Company')[['Price']].max()\n",
    "exp_laptop = exp_laptop.sort_values('Price',ascending = False).reset_index()\n",
    "exp_laptop"
   ]
  },
  {
   "cell_type": "code",
   "execution_count": null,
   "id": "6b03857e",
   "metadata": {},
   "outputs": [],
   "source": [
    "df[df['Price']== df['Price'].max()]\n"
   ]
  },
  {
   "cell_type": "code",
   "execution_count": null,
   "id": "2dacc472",
   "metadata": {},
   "outputs": [],
   "source": [
    "fig = px.bar(exp_laptop,x='Company',y='Price')\n",
    "\n",
    "fig\n"
   ]
  },
  {
   "cell_type": "markdown",
   "id": "79e55cc4",
   "metadata": {},
   "source": [
    "# What is the common hard drive used for every laptop?"
   ]
  },
  {
   "cell_type": "code",
   "execution_count": null,
   "id": "bd2fab58",
   "metadata": {},
   "outputs": [],
   "source": [
    "a = [\"SSD\",\"HHD\"]"
   ]
  },
  {
   "cell_type": "code",
   "execution_count": null,
   "id": "6c1799d2",
   "metadata": {},
   "outputs": [],
   "source": [
    "for x in a :\n",
    "    if a== 0:\n",
    "        a.count()\n",
    "        print(a)"
   ]
  },
  {
   "cell_type": "markdown",
   "id": "2521152d",
   "metadata": {},
   "source": [
    "# Which brand is the most frequent in the dataframe?"
   ]
  },
  {
   "cell_type": "code",
   "execution_count": null,
   "id": "2e7f692b",
   "metadata": {},
   "outputs": [],
   "source": [
    "d=df[\"Company\"].value_counts() "
   ]
  },
  {
   "cell_type": "code",
   "execution_count": null,
   "id": "7065305b",
   "metadata": {},
   "outputs": [],
   "source": [
    "d"
   ]
  },
  {
   "cell_type": "code",
   "execution_count": null,
   "id": "c505855d",
   "metadata": {},
   "outputs": [],
   "source": [
    "px.bar(d,x='Company')\n"
   ]
  },
  {
   "cell_type": "markdown",
   "id": "6e4da166",
   "metadata": {},
   "source": [
    "# Algorithm\n"
   ]
  },
  {
   "cell_type": "code",
   "execution_count": null,
   "id": "9e13461d",
   "metadata": {},
   "outputs": [],
   "source": [
    "Company = pd.get_dummies(df['Company'], drop_first=True)"
   ]
  },
  {
   "cell_type": "code",
   "execution_count": null,
   "id": "bcfd3aea",
   "metadata": {},
   "outputs": [],
   "source": [
    "os = pd.get_dummies(df['os'], drop_first=True)"
   ]
  },
  {
   "cell_type": "code",
   "execution_count": null,
   "id": "0480e034",
   "metadata": {},
   "outputs": [],
   "source": [
    "TypeName = pd.get_dummies(df['TypeName'], drop_first=True)"
   ]
  },
  {
   "cell_type": "code",
   "execution_count": null,
   "id": "217751ae",
   "metadata": {},
   "outputs": [],
   "source": [
    "cpuName=pd.get_dummies(df[\"cpuName\"],drop_first=True)"
   ]
  },
  {
   "cell_type": "code",
   "execution_count": null,
   "id": "ce4e088e",
   "metadata": {},
   "outputs": [],
   "source": [
    "#Company=pd.get_dummies(df[\"Company\"],drop_first=True)"
   ]
  },
  {
   "cell_type": "code",
   "execution_count": null,
   "id": "8db9873f",
   "metadata": {},
   "outputs": [],
   "source": [
    "df_u = pd.concat([df,cpuName,TypeName,os,Company],axis = 1)"
   ]
  },
  {
   "cell_type": "code",
   "execution_count": null,
   "id": "39f7efa0",
   "metadata": {},
   "outputs": [],
   "source": [
    "df_u.drop([\"Product\",\"TypeName\",\"OpSys\",\"cpuName\",\"os\",\"Company\"], axis =1 , inplace =True)"
   ]
  },
  {
   "cell_type": "code",
   "execution_count": null,
   "id": "93839e3e",
   "metadata": {},
   "outputs": [],
   "source": [
    "df_u"
   ]
  },
  {
   "cell_type": "code",
   "execution_count": null,
   "id": "935af89e",
   "metadata": {},
   "outputs": [],
   "source": [
    "df_u.rename(\n",
    "    inplace=True,\n",
    "    columns={\n",
    "        \"Intel Core i7\": \"Intel_Core_i7\",\n",
    "        \"other Intel\":\"other_Intel\",\n",
    "        \"Intel Core i3\":\"Intel_Core_i3\"\n",
    "    })"
   ]
  },
  {
   "cell_type": "code",
   "execution_count": null,
   "id": "0f47cd70",
   "metadata": {},
   "outputs": [],
   "source": [
    "df_u.corr()['Price'].sort_values(ascending=False)"
   ]
  },
  {
   "cell_type": "code",
   "execution_count": null,
   "id": "94c3ddfc",
   "metadata": {},
   "outputs": [],
   "source": [
    "X=df_u.drop(\"Price\" ,axis =1)\n",
    "y=df_u[\"Price\"]"
   ]
  },
  {
   "cell_type": "markdown",
   "id": "4193d020",
   "metadata": {},
   "source": [
    "# Experiment 1: Linear Regression\n"
   ]
  },
  {
   "cell_type": "code",
   "execution_count": null,
   "id": "c40289fc",
   "metadata": {},
   "outputs": [],
   "source": [
    "def split_and_validate(X, y):\n",
    "   \n",
    "    X_train_val, X_test, y_train_val, y_test = train_test_split(X, y, test_size=0.2,random_state=42)\n",
    "    X_train, X_val, y_train, y_val = train_test_split(X_train_val, y_train_val, test_size=.25, random_state=43)\n",
    "\n",
    "    #X_train, X_val, y_train, y_val = train_test_split(X, y, test_size=0.2, random_state=42)\n",
    "\n",
    "    lr_model = LinearRegression()\n",
    "    lr_model.fit(X_train, y_train)\n",
    "    val_score = lr_model.score(X_train, y_train)\n",
    "    val_score1 = lr_model.score(X_val, y_val)\n",
    "    val_score3 = lr_model.score(X_test, y_test)\n",
    "   \n",
    "    \n",
    "    # report results\n",
    "    print('\\nValidation R^2 score was train:', val_score1)\n",
    "    print('\\nValidation R^2 score was val:', val_score)\n",
    "    print('\\nValidation R^2 score was test:', val_score3)\n"
   ]
  },
  {
   "cell_type": "code",
   "execution_count": null,
   "id": "cfc4ab6b",
   "metadata": {},
   "outputs": [],
   "source": [
    "split_and_validate(X, y)"
   ]
  },
  {
   "cell_type": "code",
   "execution_count": null,
   "id": "3a3cec7a",
   "metadata": {},
   "outputs": [],
   "source": [
    "X2 = X.copy()\n",
    "\n",
    "X2['weight'] = X2['Weight'] ** 2\n",
    "\n",
    "\n",
    "split_and_validate(X2, y)"
   ]
  },
  {
   "cell_type": "code",
   "execution_count": null,
   "id": "8af296b0",
   "metadata": {},
   "outputs": [],
   "source": [
    "X3 = X2.copy()\n",
    "\n",
    "# multiplicative interaction\n",
    "X3['12']   = X3['Ram'] * X3['Intel_Core_i7']\n",
    "X3['132']  = X3['Ram'] * X3['ppi']\n",
    "X3['1322'] = X3['Intel_Core_i7'] * X3['ppi']\n",
    "X3['13252']= X3['Razer'] * X3['Gaming']\n",
    "\n",
    "split_and_validate(X3, y)"
   ]
  },
  {
   "cell_type": "markdown",
   "id": "92e0fa9f",
   "metadata": {},
   "source": [
    "# Experiment 2:OLS Regression Results\n"
   ]
  },
  {
   "cell_type": "code",
   "execution_count": null,
   "id": "a419b1fb",
   "metadata": {},
   "outputs": [],
   "source": [
    "model = sm.OLS(y, X)\n",
    "fit = model.fit()\n",
    "fit.summary()"
   ]
  },
  {
   "cell_type": "markdown",
   "id": "501f4a76",
   "metadata": {},
   "source": [
    "# Experiment 3: Decision Tree Regression"
   ]
  },
  {
   "cell_type": "code",
   "execution_count": null,
   "id": "01438c84",
   "metadata": {},
   "outputs": [],
   "source": [
    "from sklearn.tree import DecisionTreeRegressor"
   ]
  },
  {
   "cell_type": "code",
   "execution_count": null,
   "id": "049765db",
   "metadata": {},
   "outputs": [],
   "source": [
    "\n",
    "df_u = DecisionTreeRegressor()\n",
    "df_u.fit(X,y)\n",
    "df_u.score(X,y)"
   ]
  },
  {
   "cell_type": "code",
   "execution_count": null,
   "id": "a97e1e47",
   "metadata": {},
   "outputs": [],
   "source": []
  }
 ],
 "metadata": {
  "kernelspec": {
   "display_name": "Python 3",
   "language": "python",
   "name": "python3"
  },
  "language_info": {
   "codemirror_mode": {
    "name": "ipython",
    "version": 3
   },
   "file_extension": ".py",
   "mimetype": "text/x-python",
   "name": "python",
   "nbconvert_exporter": "python",
   "pygments_lexer": "ipython3",
   "version": "3.8.8"
  }
 },
 "nbformat": 4,
 "nbformat_minor": 5
}
